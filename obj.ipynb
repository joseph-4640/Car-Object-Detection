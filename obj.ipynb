{
  "cells": [
    {
      "cell_type": "markdown",
      "source": [
        "# **CAR OBJECT DETECTION**"
      ],
      "metadata": {
        "id": "auOBtKcioXgY"
      },
      "id": "auOBtKcioXgY"
    },
    {
      "cell_type": "code",
      "source": [
        "import sys\n",
        "import os\n",
        "import shutil\n",
        "import xml.etree.ElementTree as ET\n",
        "from collections import Counter\n",
        "from pathlib import Path\n",
        "\n",
        "import cv2\n",
        "import matplotlib.pyplot as plt\n",
        "from IPython.display import Video\n",
        "import torch\n",
        "import torchvision\n",
        "from torchvision import transforms\n",
        "from torchvision.io import read_image\n",
        "from torchvision.transforms.functional import to_pil_image\n",
        "from torchvision.utils import draw_bounding_boxes, make_grid"
      ],
      "metadata": {
        "id": "M0tdesG1oh8W"
      },
      "id": "M0tdesG1oh8W",
      "execution_count": 2,
      "outputs": []
    },
    {
      "cell_type": "code",
      "source": [
        "print(\"Platform:\", sys.platform)\n",
        "print(\"Python version:\", sys.version)\n",
        "print(\"---\")\n",
        "print(\"CV2 version : \", cv2.__version__)\n",
        "print(\"torch version : \", torch.__version__)\n",
        "print(\"torchvision version : \", torchvision.__version__)"
      ],
      "metadata": {
        "id": "NCXH34KSpUMc",
        "outputId": "d50565f4-b690-4540-9203-781947894c60",
        "colab": {
          "base_uri": "https://localhost:8080/"
        }
      },
      "id": "NCXH34KSpUMc",
      "execution_count": 3,
      "outputs": [
        {
          "output_type": "stream",
          "name": "stdout",
          "text": [
            "Platform: linux\n",
            "Python version: 3.11.11 (main, Dec  4 2024, 08:55:07) [GCC 11.4.0]\n",
            "---\n",
            "CV2 version :  4.11.0\n",
            "torch version :  2.6.0+cu124\n",
            "torchvision version :  0.21.0+cu124\n"
          ]
        }
      ]
    },
    {
      "cell_type": "markdown",
      "source": [
        "**IMPORT DATA**"
      ],
      "metadata": {
        "id": "zpy21ke4qrti"
      },
      "id": "zpy21ke4qrti"
    },
    {
      "cell_type": "code",
      "source": [
        "!pip install kagglehub\n",
        "import kagglehub\n",
        "import warnings\n",
        "warnings.filterwarnings(\"ignore\")"
      ],
      "metadata": {
        "id": "QTQUXmVrqwI7",
        "outputId": "45c0f63b-c34c-46cb-c40f-6588876be515",
        "colab": {
          "base_uri": "https://localhost:8080/"
        }
      },
      "id": "QTQUXmVrqwI7",
      "execution_count": 23,
      "outputs": [
        {
          "output_type": "stream",
          "name": "stdout",
          "text": [
            "Requirement already satisfied: kagglehub in /usr/local/lib/python3.11/dist-packages (0.3.10)\n",
            "Requirement already satisfied: packaging in /usr/local/lib/python3.11/dist-packages (from kagglehub) (24.2)\n",
            "Requirement already satisfied: pyyaml in /usr/local/lib/python3.11/dist-packages (from kagglehub) (6.0.2)\n",
            "Requirement already satisfied: requests in /usr/local/lib/python3.11/dist-packages (from kagglehub) (2.32.3)\n",
            "Requirement already satisfied: tqdm in /usr/local/lib/python3.11/dist-packages (from kagglehub) (4.67.1)\n",
            "Requirement already satisfied: charset-normalizer<4,>=2 in /usr/local/lib/python3.11/dist-packages (from requests->kagglehub) (3.4.1)\n",
            "Requirement already satisfied: idna<4,>=2.5 in /usr/local/lib/python3.11/dist-packages (from requests->kagglehub) (3.10)\n",
            "Requirement already satisfied: urllib3<3,>=1.21.1 in /usr/local/lib/python3.11/dist-packages (from requests->kagglehub) (2.3.0)\n",
            "Requirement already satisfied: certifi>=2017.4.17 in /usr/local/lib/python3.11/dist-packages (from requests->kagglehub) (2025.1.31)\n"
          ]
        }
      ]
    },
    {
      "cell_type": "code",
      "source": [
        "!mkdir -p ~/.kaggle\n",
        "!mv /root/kaggle/kaggle.json ~/.kaggle/\n",
        "!chmod 600 ~/.kaggle/kaggle.json\n"
      ],
      "metadata": {
        "id": "A4sSXY90uCvd"
      },
      "id": "A4sSXY90uCvd",
      "execution_count": 25,
      "outputs": []
    },
    {
      "cell_type": "code",
      "source": [
        "# Download latest version\n",
        "# Download latest version\n",
        "path = kagglehub.dataset_download(\"sshikamaru/car-object-detection\")\n",
        "\n",
        "print(\"Path to dataset files:\", \"/content/sample_data\")"
      ],
      "metadata": {
        "id": "d9qH1Y8TybWN",
        "outputId": "145fd68b-a86d-4a06-9754-558559b03047",
        "colab": {
          "base_uri": "https://localhost:8080/"
        }
      },
      "id": "d9qH1Y8TybWN",
      "execution_count": 27,
      "outputs": [
        {
          "output_type": "stream",
          "name": "stdout",
          "text": [
            "Downloading from https://www.kaggle.com/api/v1/datasets/download/sshikamaru/car-object-detection?dataset_version_number=2...\n"
          ]
        },
        {
          "output_type": "stream",
          "name": "stderr",
          "text": [
            "100%|██████████| 112M/112M [00:00<00:00, 196MB/s] "
          ]
        },
        {
          "output_type": "stream",
          "name": "stdout",
          "text": [
            "Extracting files...\n"
          ]
        },
        {
          "output_type": "stream",
          "name": "stderr",
          "text": [
            "\n"
          ]
        },
        {
          "output_type": "stream",
          "name": "stdout",
          "text": [
            "Path to dataset files: /content/sample_data\n"
          ]
        }
      ]
    },
    {
      "cell_type": "code",
      "source": [
        "!unzip ./data/dataset-name.zip -d ./data/"
      ],
      "metadata": {
        "id": "x0m4KQvxzSVb"
      },
      "id": "x0m4KQvxzSVb",
      "execution_count": null,
      "outputs": []
    },
    {
      "cell_type": "markdown",
      "source": [
        "**TRAIN IRECTORY**"
      ],
      "metadata": {
        "id": "LJuOOGrbp52l"
      },
      "id": "LJuOOGrbp52l"
    },
    {
      "cell_type": "code",
      "source": [],
      "metadata": {
        "id": "di_ExZbGp_b_"
      },
      "id": "di_ExZbGp_b_",
      "execution_count": null,
      "outputs": []
    }
  ],
  "metadata": {
    "colab": {
      "provenance": []
    },
    "language_info": {
      "name": "python"
    },
    "kernelspec": {
      "name": "python3",
      "display_name": "Python 3"
    }
  },
  "nbformat": 4,
  "nbformat_minor": 5
}